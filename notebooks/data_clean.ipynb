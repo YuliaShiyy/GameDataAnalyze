{
 "cells": [
  {
   "metadata": {
    "ExecuteTime": {
     "end_time": "2025-09-06T22:17:17.219134Z",
     "start_time": "2025-09-06T22:17:16.815632Z"
    }
   },
   "cell_type": "code",
   "source": "import pandas as pd",
   "id": "18f638fa223c50f9",
   "outputs": [],
   "execution_count": 1
  },
  {
   "metadata": {
    "ExecuteTime": {
     "end_time": "2025-09-06T22:17:39.527766Z",
     "start_time": "2025-09-06T22:17:39.490784Z"
    }
   },
   "cell_type": "code",
   "source": "df = pd.read_csv(\"./OnlineGamingBehavior/online_gaming_behavior_dataset.csv\")",
   "id": "d4ab3fd57f8a35ed",
   "outputs": [],
   "execution_count": 2
  },
  {
   "metadata": {
    "ExecuteTime": {
     "end_time": "2025-09-06T22:17:50.339154Z",
     "start_time": "2025-09-06T22:17:50.324140Z"
    }
   },
   "cell_type": "code",
   "source": [
    "print(df.shape)\n",
    "print(df.info())\n",
    "print(df.head())"
   ],
   "id": "4f1b32f26dcf4206",
   "outputs": [
    {
     "name": "stdout",
     "output_type": "stream",
     "text": [
      "(40034, 13)\n",
      "<class 'pandas.core.frame.DataFrame'>\n",
      "RangeIndex: 40034 entries, 0 to 40033\n",
      "Data columns (total 13 columns):\n",
      " #   Column                     Non-Null Count  Dtype  \n",
      "---  ------                     --------------  -----  \n",
      " 0   PlayerID                   40034 non-null  int64  \n",
      " 1   Age                        40034 non-null  int64  \n",
      " 2   Gender                     40034 non-null  object \n",
      " 3   Location                   40034 non-null  object \n",
      " 4   GameGenre                  40034 non-null  object \n",
      " 5   PlayTimeHours              40034 non-null  float64\n",
      " 6   InGamePurchases            40034 non-null  int64  \n",
      " 7   GameDifficulty             40034 non-null  object \n",
      " 8   SessionsPerWeek            40034 non-null  int64  \n",
      " 9   AvgSessionDurationMinutes  40034 non-null  int64  \n",
      " 10  PlayerLevel                40034 non-null  int64  \n",
      " 11  AchievementsUnlocked       40034 non-null  int64  \n",
      " 12  EngagementLevel            40034 non-null  object \n",
      "dtypes: float64(1), int64(7), object(5)\n",
      "memory usage: 4.0+ MB\n",
      "None\n",
      "   PlayerID  Age  Gender Location GameGenre  PlayTimeHours  InGamePurchases  \\\n",
      "0      9000   43    Male    Other  Strategy      16.271119                0   \n",
      "1      9001   29  Female      USA  Strategy       5.525961                0   \n",
      "2      9002   22  Female      USA    Sports       8.223755                0   \n",
      "3      9003   35    Male      USA    Action       5.265351                1   \n",
      "4      9004   33    Male   Europe    Action      15.531945                0   \n",
      "\n",
      "  GameDifficulty  SessionsPerWeek  AvgSessionDurationMinutes  PlayerLevel  \\\n",
      "0         Medium                6                        108           79   \n",
      "1         Medium                5                        144           11   \n",
      "2           Easy               16                        142           35   \n",
      "3           Easy                9                         85           57   \n",
      "4         Medium                2                        131           95   \n",
      "\n",
      "   AchievementsUnlocked EngagementLevel  \n",
      "0                    25          Medium  \n",
      "1                    10          Medium  \n",
      "2                    41            High  \n",
      "3                    47          Medium  \n",
      "4                    37          Medium  \n"
     ]
    }
   ],
   "execution_count": 3
  },
  {
   "metadata": {
    "ExecuteTime": {
     "end_time": "2025-09-06T22:18:18.271016Z",
     "start_time": "2025-09-06T22:18:18.254257Z"
    }
   },
   "cell_type": "code",
   "source": "df = df.drop_duplicates()",
   "id": "6b978a3a4540ed21",
   "outputs": [],
   "execution_count": 4
  },
  {
   "metadata": {
    "ExecuteTime": {
     "end_time": "2025-09-06T22:18:25.777172Z",
     "start_time": "2025-09-06T22:18:25.758575Z"
    }
   },
   "cell_type": "code",
   "source": [
    "print(df['Location'].value_counts())\n",
    "print(df['GameGenre'].value_counts())\n",
    "print(df.describe())"
   ],
   "id": "fefe2f2a02834b77",
   "outputs": [
    {
     "name": "stdout",
     "output_type": "stream",
     "text": [
      "Location\n",
      "USA       16000\n",
      "Europe    12004\n",
      "Asia       8095\n",
      "Other      3935\n",
      "Name: count, dtype: int64\n",
      "GameGenre\n",
      "Sports        8048\n",
      "Action        8039\n",
      "Strategy      8012\n",
      "Simulation    7983\n",
      "RPG           7952\n",
      "Name: count, dtype: int64\n",
      "           PlayerID           Age  PlayTimeHours  InGamePurchases  \\\n",
      "count  40034.000000  40034.000000   40034.000000     40034.000000   \n",
      "mean   29016.500000     31.992531      12.024365         0.200854   \n",
      "std    11556.964675     10.043227       6.914638         0.400644   \n",
      "min     9000.000000     15.000000       0.000115         0.000000   \n",
      "25%    19008.250000     23.000000       6.067501         0.000000   \n",
      "50%    29016.500000     32.000000      12.008002         0.000000   \n",
      "75%    39024.750000     41.000000      17.963831         0.000000   \n",
      "max    49033.000000     49.000000      23.999592         1.000000   \n",
      "\n",
      "       SessionsPerWeek  AvgSessionDurationMinutes   PlayerLevel  \\\n",
      "count     40034.000000               40034.000000  40034.000000   \n",
      "mean          9.471774                  94.792252     49.655568   \n",
      "std           5.763667                  49.011375     28.588379   \n",
      "min           0.000000                  10.000000      1.000000   \n",
      "25%           4.000000                  52.000000     25.000000   \n",
      "50%           9.000000                  95.000000     49.000000   \n",
      "75%          14.000000                 137.000000     74.000000   \n",
      "max          19.000000                 179.000000     99.000000   \n",
      "\n",
      "       AchievementsUnlocked  \n",
      "count          40034.000000  \n",
      "mean              24.526477  \n",
      "std               14.430726  \n",
      "min                0.000000  \n",
      "25%               12.000000  \n",
      "50%               25.000000  \n",
      "75%               37.000000  \n",
      "max               49.000000  \n"
     ]
    }
   ],
   "execution_count": 5
  },
  {
   "metadata": {
    "ExecuteTime": {
     "end_time": "2025-09-06T22:18:38.046961Z",
     "start_time": "2025-09-06T22:18:38.040724Z"
    }
   },
   "cell_type": "code",
   "source": "df_europe = df[df['Location'] == 'Europe']",
   "id": "38e81a7077e5fe4",
   "outputs": [],
   "execution_count": 6
  },
  {
   "metadata": {},
   "cell_type": "code",
   "outputs": [],
   "execution_count": null,
   "source": [
    "df.to_csv(\"gaming_data_cleaned.csv\", index=False)\n",
    "df_europe.to_csv(\"gaming_data_europe.csv\", index=False)\n",
    "\n",
    "print(\"complete\")"
   ],
   "id": "f23216e075fceb30"
  }
 ],
 "metadata": {
  "kernelspec": {
   "display_name": "Python 3",
   "language": "python",
   "name": "python3"
  },
  "language_info": {
   "codemirror_mode": {
    "name": "ipython",
    "version": 2
   },
   "file_extension": ".py",
   "mimetype": "text/x-python",
   "name": "python",
   "nbconvert_exporter": "python",
   "pygments_lexer": "ipython2",
   "version": "2.7.6"
  }
 },
 "nbformat": 4,
 "nbformat_minor": 5
}
